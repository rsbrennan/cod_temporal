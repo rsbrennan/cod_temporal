{
 "cells": [
  {
   "cell_type": "code",
   "execution_count": 1,
   "id": "e7593955",
   "metadata": {},
   "outputs": [],
   "source": [
    "import cvtk\n",
    "import os\n",
    "import sys\n",
    "nb_dir = os.path.split(os.getcwd())[0]\n",
    "if nb_dir not in sys.path:\n",
    "    sys.path.append(nb_dir)\n",
    "%load_ext autoreload\n",
    "%autoreload 2\n",
    "%reload_ext autoreload\n",
    "\n",
    "import re\n",
    "import pickle\n",
    "\n",
    "from tqdm import tnrange\n",
    "import pandas as pd\n",
    "import numpy as np\n",
    "import matplotlib.pyplot as plt\n",
    "from matplotlib import cm\n",
    "import statsmodels.api as sm\n",
    "import matplotlib as mpl"
   ]
  },
  {
   "cell_type": "code",
   "execution_count": 2,
   "id": "a28a6de1",
   "metadata": {},
   "outputs": [
    {
     "name": "stderr",
     "output_type": "stream",
     "text": [
      "/gxfs_home/geomar/smomw504/miniconda3/envs/cvtk/lib/python3.9/site-packages/cvtkpy-0.0.1-py3.9.egg/cvtk/gintervals.py:138: SyntaxWarning: \"is not\" with a literal. Did you mean \"!=\"?\n",
      "/gxfs_home/geomar/smomw504/miniconda3/envs/cvtk/lib/python3.9/site-packages/cvtkpy-0.0.1-py3.9.egg/cvtk/gintervals.py:138: SyntaxWarning: \"is not\" with a literal. Did you mean \"!=\"?\n"
     ]
    }
   ],
   "source": [
    "from cvtk.cvtk import TemporalFreqs, TiledTemporalFreqs\n",
    "from cvtk.cov import stack_temporal_covariances\n",
    "import cvtk.variant_files as vf\n",
    "from cvtk.gintervals import GenomicIntervals\n",
    "from cvtk.pca import FreqPCA\n",
    "from cvtk.plots import rep_plot_pca, correction_diagnostic_plot\n",
    "from cvtk.utils import integerize\n",
    "from cvtk.utils import extract_empirical_nulls_diagonals, extract_temporal_cov_diagonals\n",
    "from cvtk.cov import stack_replicate_covariances, stack_temporal_covs_by_group"
   ]
  },
  {
   "cell_type": "code",
   "execution_count": 3,
   "id": "b716c665",
   "metadata": {},
   "outputs": [],
   "source": [
    "%matplotlib inline\n",
    "#%config InlineBackend.figure_format = 'svg'\n",
    "mpl.rcParams['figure.figsize'] = (8.0, 4.0)\n",
    "mpl.rcParams['figure.dpi'] = 200"
   ]
  },
  {
   "cell_type": "code",
   "execution_count": 4,
   "id": "f283fd1d",
   "metadata": {},
   "outputs": [],
   "source": [
    "np.random.seed(0)"
   ]
  },
  {
   "cell_type": "code",
   "execution_count": 5,
   "id": "98507e6b",
   "metadata": {
    "scrolled": true
   },
   "outputs": [
    {
     "name": "stdout",
     "output_type": "stream",
     "text": [
      "reading file '/gxfs_work1/geomar/smomw426/cod_all_5_115/09_selectVariants/cod_all_5_115_filteredSNPs_gq20_dp8_ua_miss0.9_maf0.05_hwe001_bial.recode.vcf.gz'...\n",
      "file '/gxfs_work1/geomar/smomw426/cod_all_5_115/09_selectVariants/cod_all_5_115_filteredSNPs_gq20_dp8_ua_miss0.9_maf0.05_hwe001_bial.recode.vcf.gz' loaded.\n",
      "total time to load VCF file: 0.5956226388613383 mins.\n"
     ]
    }
   ],
   "source": [
    "from cvtk.variant_files import VCFFile\n",
    "\n",
    "#vcf = VCFFile('/gxfs_home/geomar/smomw504/cod/cod.500k.vcf')\n",
    "vcf = VCFFile('/gxfs_work1/geomar/smomw426/cod_all_5_115/09_selectVariants/cod_all_5_115_filteredSNPs_gq20_dp8_ua_miss0.9_maf0.05_hwe001_bial.recode.vcf.gz')"
   ]
  },
  {
   "cell_type": "code",
   "execution_count": 6,
   "id": "dbcd7eb7",
   "metadata": {},
   "outputs": [
    {
     "data": {
      "text/html": [
       "<div>\n",
       "<style scoped>\n",
       "    .dataframe tbody tr th:only-of-type {\n",
       "        vertical-align: middle;\n",
       "    }\n",
       "\n",
       "    .dataframe tbody tr th {\n",
       "        vertical-align: top;\n",
       "    }\n",
       "\n",
       "    .dataframe thead th {\n",
       "        text-align: right;\n",
       "    }\n",
       "</style>\n",
       "<table border=\"1\" class=\"dataframe\">\n",
       "  <thead>\n",
       "    <tr style=\"text-align: right;\">\n",
       "      <th></th>\n",
       "      <th>individual</th>\n",
       "      <th>line</th>\n",
       "    </tr>\n",
       "  </thead>\n",
       "  <tbody>\n",
       "    <tr>\n",
       "      <th>0</th>\n",
       "      <td>4-04-AL099-630_S4_L004</td>\n",
       "      <td>pop1996</td>\n",
       "    </tr>\n",
       "    <tr>\n",
       "      <th>1</th>\n",
       "      <td>20-20-AL101-185_S20_L004</td>\n",
       "      <td>pop1996</td>\n",
       "    </tr>\n",
       "    <tr>\n",
       "      <th>2</th>\n",
       "      <td>22-22-AL099-591_S22_L004</td>\n",
       "      <td>pop1996</td>\n",
       "    </tr>\n",
       "    <tr>\n",
       "      <th>3</th>\n",
       "      <td>25-25-AL101-434_S25_L004</td>\n",
       "      <td>pop1996</td>\n",
       "    </tr>\n",
       "    <tr>\n",
       "      <th>4</th>\n",
       "      <td>26-26-AL101-504_S26_L004</td>\n",
       "      <td>pop1996</td>\n",
       "    </tr>\n",
       "    <tr>\n",
       "      <th>...</th>\n",
       "      <td>...</td>\n",
       "      <td>...</td>\n",
       "    </tr>\n",
       "    <tr>\n",
       "      <th>110</th>\n",
       "      <td>J35421-S1-_L1_S118_L002</td>\n",
       "      <td>pop2019</td>\n",
       "    </tr>\n",
       "    <tr>\n",
       "      <th>111</th>\n",
       "      <td>J35422-S1-_L1_S119_L002</td>\n",
       "      <td>pop2019</td>\n",
       "    </tr>\n",
       "    <tr>\n",
       "      <th>112</th>\n",
       "      <td>J35429-S1-_L1_S126_L002</td>\n",
       "      <td>pop2019</td>\n",
       "    </tr>\n",
       "    <tr>\n",
       "      <th>113</th>\n",
       "      <td>J35430-S1-_L1_S127_L002</td>\n",
       "      <td>pop2019</td>\n",
       "    </tr>\n",
       "    <tr>\n",
       "      <th>114</th>\n",
       "      <td>J35431-S1-_L1_S128_L002</td>\n",
       "      <td>pop2019</td>\n",
       "    </tr>\n",
       "  </tbody>\n",
       "</table>\n",
       "<p>115 rows × 2 columns</p>\n",
       "</div>"
      ],
      "text/plain": [
       "                   individual     line\n",
       "0      4-04-AL099-630_S4_L004  pop1996\n",
       "1    20-20-AL101-185_S20_L004  pop1996\n",
       "2    22-22-AL099-591_S22_L004  pop1996\n",
       "3    25-25-AL101-434_S25_L004  pop1996\n",
       "4    26-26-AL101-504_S26_L004  pop1996\n",
       "..                        ...      ...\n",
       "110   J35421-S1-_L1_S118_L002  pop2019\n",
       "111   J35422-S1-_L1_S119_L002  pop2019\n",
       "112   J35429-S1-_L1_S126_L002  pop2019\n",
       "113   J35430-S1-_L1_S127_L002  pop2019\n",
       "114   J35431-S1-_L1_S128_L002  pop2019\n",
       "\n",
       "[115 rows x 2 columns]"
      ]
     },
     "execution_count": 6,
     "metadata": {},
     "output_type": "execute_result"
    }
   ],
   "source": [
    "samples = pd.read_csv(\"/gxfs_work1/geomar/smomw426/cod_all_5_115/15_temp_cov/pop_info\", header=None, names = ('individual', 'line'), sep=\"\\t\")\n",
    "samples"
   ]
  },
  {
   "cell_type": "code",
   "execution_count": 7,
   "id": "9b56dfb8",
   "metadata": {},
   "outputs": [
    {
     "data": {
      "text/plain": [
       "{'4-04-AL099-630_S4_L004': 'pop1996',\n",
       " '20-20-AL101-185_S20_L004': 'pop1996',\n",
       " '22-22-AL099-591_S22_L004': 'pop1996',\n",
       " '25-25-AL101-434_S25_L004': 'pop1996',\n",
       " '26-26-AL101-504_S26_L004': 'pop1996',\n",
       " '38-38-AL099-597_S38_L004': 'pop1996',\n",
       " '47-47-AL099-600_S47_L004': 'pop1996',\n",
       " '61-61-AL099-621_S7_L004': 'pop1996',\n",
       " '65-65-AL099-344_S11_L004': 'pop1996',\n",
       " '69-69-AL101-595_S15_L004': 'pop1996',\n",
       " '70-70-AL101-105_S16_L004': 'pop1996',\n",
       " '77-77-AL101-430_S23_L004': 'pop1996',\n",
       " '79-79-AL099-369_S25_L004': 'pop1996',\n",
       " '99-99-AL101-114_S45_L004': 'pop1996',\n",
       " '100-100-AL099-577_S46_L004': 'pop1996',\n",
       " 'J32532': 'pop1996',\n",
       " 'J32534': 'pop1996',\n",
       " 'J32535': 'pop1996',\n",
       " 'J32536': 'pop1996',\n",
       " 'J32537': 'pop1996',\n",
       " 'J32538': 'pop1996',\n",
       " 'J32542': 'pop1996',\n",
       " 'J32543': 'pop1996',\n",
       " 'J32544': 'pop1996',\n",
       " 'J32545': 'pop1996',\n",
       " 'J32546': 'pop1996',\n",
       " 'J32547': 'pop1996',\n",
       " 'J32533-_L1_S2_L001': 'pop1996',\n",
       " 'J32539-_L1_S8_L001': 'pop1996',\n",
       " '16-16-AL207-504_S16_L004': 'pop2002',\n",
       " '29-29-AL207-561_S29_L004': 'pop2002',\n",
       " '30-30-AL207-91_S30_L004': 'pop2002',\n",
       " '33-33-AL207-249_S33_L004': 'pop2002',\n",
       " '40-40-AL207-462_S40_L004': 'pop2002',\n",
       " '49-49-AL207-490_S49_L004': 'pop2002',\n",
       " '51-51-AL207-20_S51_L004': 'pop2002',\n",
       " '55-55-AL207-151_S1_L004': 'pop2002',\n",
       " '56-56-AL207-61_S2_L004': 'pop2002',\n",
       " '57-57-AL207-197_S3_L004': 'pop2002',\n",
       " '60-60-AL207-473_S6_L004': 'pop2002',\n",
       " '66-66-AL207-25_S12_L004': 'pop2002',\n",
       " '72-72-AL207-413_S18_L004': 'pop2002',\n",
       " '73-73-AL207-149_S19_L004': 'pop2002',\n",
       " '87-87-AL207-131_S33_L004': 'pop2002',\n",
       " '89-89-AL207-539_S35_L004': 'pop2002',\n",
       " '93-93-AL207-625_S39_L004': 'pop2002',\n",
       " '94-94-AL207-691_S40_L004': 'pop2002',\n",
       " '101-101-AL207-146_S47_L004': 'pop2002',\n",
       " '106-106-AL207-231_S52_L004': 'pop2002',\n",
       " '107-107-AL207-143_S53_L004': 'pop2002',\n",
       " '108-108-AL207-516_S54_L004': 'pop2002',\n",
       " '1-01-AL320-263_S1_L004': 'pop2008',\n",
       " '2-02-AL320-132_S2_L004': 'pop2008',\n",
       " '6-06-AL320-379_S6_L004': 'pop2008',\n",
       " '7-07-AL320-153_S7_L004': 'pop2008',\n",
       " '9-09-AL320-532_S9_L004': 'pop2008',\n",
       " '10-10-AL320-772_S10_L004': 'pop2008',\n",
       " '12-12-AL320-865_S12_L004': 'pop2008',\n",
       " '14-14-AL318-29_S14_L004': 'pop2008',\n",
       " '17-17-AL320-331_S17_L004': 'pop2008',\n",
       " '21-21-AL320-1003_S21_L004': 'pop2008',\n",
       " '31-31-AL320-335_S31_L004': 'pop2008',\n",
       " '32-32-AL324-1151_S32_L004': 'pop2008',\n",
       " '35-35-AL320-5_S35_L004': 'pop2008',\n",
       " '37-37-AL320-1172_S37_L004': 'pop2008',\n",
       " '41-41-AL320-487_S41_L004': 'pop2008',\n",
       " '43-43-AL320-1067_S43_L004': 'pop2008',\n",
       " '44-44-AL320-398_S44_L004': 'pop2008',\n",
       " '52-52-AL320-879_S52_L004': 'pop2008',\n",
       " '58-58-AL318-200_S4_L004': 'pop2008',\n",
       " '63-63-AL318-234_S9_L004': 'pop2008',\n",
       " '74-74-AL324-1064_S20_L004': 'pop2008',\n",
       " '80-80-AL324-652_S26_L004': 'pop2008',\n",
       " '103-103-AL324-1047_S49_L004': 'pop2008',\n",
       " '105-105-AL318-9_S51_L004': 'pop2008',\n",
       " 'J35395-S1-_L1_S92_L002': 'pop2014',\n",
       " 'J35396-S1-_L1_S93_L002': 'pop2014',\n",
       " 'J35397-S1-_L1_S94_L002': 'pop2014',\n",
       " 'J35398-S1-_L1_S95_L002': 'pop2014',\n",
       " 'J35399-S1-_L1_S96_L002': 'pop2014',\n",
       " 'J35405-S1-_L1_S102_L002': 'pop2014',\n",
       " 'J35406-S1-_L1_S103_L002': 'pop2014',\n",
       " 'J35407-S1-_L1_S104_L002': 'pop2014',\n",
       " 'J35413-S1-_L1_S110_L002': 'pop2014',\n",
       " 'J35414-S1-_L1_S111_L002': 'pop2014',\n",
       " 'J35419-S1-_L1_S116_L002': 'pop2014',\n",
       " 'J35423-S1-_L1_S120_L002': 'pop2014',\n",
       " 'J35424-S1-_L1_S121_L002': 'pop2014',\n",
       " 'J35425-S1-_L1_S122_L002': 'pop2014',\n",
       " 'J35426-S1-_L1_S123_L002': 'pop2014',\n",
       " 'J35427-S1-_L1_S124_L002': 'pop2014',\n",
       " 'J35428-S1-_L1_S125_L002': 'pop2014',\n",
       " 'J35432-S1-_L1_S129_L002': 'pop2014',\n",
       " 'J35433-S1-_L1_S130_L002': 'pop2014',\n",
       " 'J35434-S1-_L1_S131_L002': 'pop2014',\n",
       " 'J35400-S1-_L1_S97_L002': 'pop2019',\n",
       " 'J35401-S1-_L1_S98_L002': 'pop2019',\n",
       " 'J35402-S1-_L1_S99_L002': 'pop2019',\n",
       " 'J35403-S1-_L1_S100_L002': 'pop2019',\n",
       " 'J35404-S1-_L1_S101_L002': 'pop2019',\n",
       " 'J35408-S1-_L1_S105_L002': 'pop2019',\n",
       " 'J35409-S1-_L1_S106_L002': 'pop2019',\n",
       " 'J35410-S1-_L1_S107_L002': 'pop2019',\n",
       " 'J35411-S1-_L1_S108_L002': 'pop2019',\n",
       " 'J35412-S1-_L1_S109_L002': 'pop2019',\n",
       " 'J35415-S1-_L1_S112_L002': 'pop2019',\n",
       " 'J35416-S1-_L1_S113_L002': 'pop2019',\n",
       " 'J35417-S1-_L1_S114_L002': 'pop2019',\n",
       " 'J35418-S1-_L1_S115_L002': 'pop2019',\n",
       " 'J35420-S1-_L1_S117_L002': 'pop2019',\n",
       " 'J35421-S1-_L1_S118_L002': 'pop2019',\n",
       " 'J35422-S1-_L1_S119_L002': 'pop2019',\n",
       " 'J35429-S1-_L1_S126_L002': 'pop2019',\n",
       " 'J35430-S1-_L1_S127_L002': 'pop2019',\n",
       " 'J35431-S1-_L1_S128_L002': 'pop2019'}"
      ]
     },
     "execution_count": 7,
     "metadata": {},
     "output_type": "execute_result"
    }
   ],
   "source": [
    "sample_map = {k:v for k, v in zip(samples['individual'], samples['line'])}\n",
    "sample_map"
   ]
  },
  {
   "cell_type": "code",
   "execution_count": 8,
   "id": "61698fb2",
   "metadata": {},
   "outputs": [
    {
     "data": {
      "text/plain": [
       "defaultdict(list,\n",
       "            {'pop2008': [0,\n",
       "              1,\n",
       "              4,\n",
       "              5,\n",
       "              9,\n",
       "              10,\n",
       "              12,\n",
       "              13,\n",
       "              15,\n",
       "              21,\n",
       "              22,\n",
       "              24,\n",
       "              25,\n",
       "              29,\n",
       "              30,\n",
       "              31,\n",
       "              35,\n",
       "              39,\n",
       "              40,\n",
       "              43,\n",
       "              47,\n",
       "              51,\n",
       "              54,\n",
       "              57],\n",
       "             'pop1996': [2,\n",
       "              14,\n",
       "              16,\n",
       "              17,\n",
       "              18,\n",
       "              26,\n",
       "              27,\n",
       "              32,\n",
       "              42,\n",
       "              44,\n",
       "              46,\n",
       "              48,\n",
       "              52,\n",
       "              53,\n",
       "              60,\n",
       "              61,\n",
       "              62,\n",
       "              63,\n",
       "              64,\n",
       "              65,\n",
       "              66,\n",
       "              67,\n",
       "              68,\n",
       "              69,\n",
       "              70,\n",
       "              71,\n",
       "              72,\n",
       "              73,\n",
       "              74],\n",
       "             'pop2002': [3,\n",
       "              6,\n",
       "              7,\n",
       "              8,\n",
       "              11,\n",
       "              19,\n",
       "              20,\n",
       "              23,\n",
       "              28,\n",
       "              33,\n",
       "              34,\n",
       "              36,\n",
       "              37,\n",
       "              38,\n",
       "              41,\n",
       "              45,\n",
       "              49,\n",
       "              50,\n",
       "              55,\n",
       "              56,\n",
       "              58,\n",
       "              59],\n",
       "             'pop2014': [75,\n",
       "              76,\n",
       "              77,\n",
       "              78,\n",
       "              79,\n",
       "              85,\n",
       "              86,\n",
       "              87,\n",
       "              93,\n",
       "              94,\n",
       "              99,\n",
       "              103,\n",
       "              104,\n",
       "              105,\n",
       "              106,\n",
       "              107,\n",
       "              108,\n",
       "              112,\n",
       "              113,\n",
       "              114],\n",
       "             'pop2019': [80,\n",
       "              81,\n",
       "              82,\n",
       "              83,\n",
       "              84,\n",
       "              88,\n",
       "              89,\n",
       "              90,\n",
       "              91,\n",
       "              92,\n",
       "              95,\n",
       "              96,\n",
       "              97,\n",
       "              98,\n",
       "              100,\n",
       "              101,\n",
       "              102,\n",
       "              109,\n",
       "              110,\n",
       "              111]})"
      ]
     },
     "execution_count": 8,
     "metadata": {},
     "output_type": "execute_result"
    }
   ],
   "source": [
    "from collections import defaultdict\n",
    "\n",
    "subpop_indices = defaultdict(list)\n",
    "for i, k in enumerate(vcf.samples):\n",
    "    subpop_indices[sample_map[k.decode()]].append(i)\n",
    "\n",
    "subpop_indices"
   ]
  },
  {
   "cell_type": "markdown",
   "id": "cefaddc1",
   "metadata": {},
   "source": [
    "From this, we can map the vcf.geno_mat table to subpopulation counts."
   ]
  },
  {
   "cell_type": "code",
   "execution_count": 9,
   "id": "ca4585ae",
   "metadata": {},
   "outputs": [
    {
     "name": "stderr",
     "output_type": "stream",
     "text": [
      "/gxfs_home/geomar/smomw504/miniconda3/envs/cvtk/lib/python3.9/site-packages/IPython/core/interactiveshell.py:3361: FutureWarning: arrays to stack must be passed as a \"sequence\" type such as list or tuple. Support for non-sequence iterables such as generators is deprecated as of NumPy 1.16 and will raise an error in the future.\n",
      "  exec(code_obj, self.user_global_ns, self.user_ns)\n"
     ]
    },
    {
     "data": {
      "text/html": [
       "<div class=\"allel allel-DisplayAs2D\"><span>&lt;AlleleCountsArray shape=(1037437, 2) dtype=int32&gt;</span><table><thead><tr><th></th><th style=\"text-align: center\">0</th><th style=\"text-align: center\">1</th></tr></thead><tbody><tr><th style=\"text-align: center; background-color: white; border-right: 1px solid black; \">0</th><td style=\"text-align: center\">42</td><td style=\"text-align: center\"> 4</td></tr><tr><th style=\"text-align: center; background-color: white; border-right: 1px solid black; \">1</th><td style=\"text-align: center\">40</td><td style=\"text-align: center\"> 4</td></tr><tr><th style=\"text-align: center; background-color: white; border-right: 1px solid black; \">2</th><td style=\"text-align: center\">43</td><td style=\"text-align: center\"> 3</td></tr><tr><th style=\"text-align: center; background-color: white; border-right: 1px solid black; \">...</th><td style=\"text-align: center\" colspan=\"3\">...</td></tr><tr><th style=\"text-align: center; background-color: white; border-right: 1px solid black; \">1037434</th><td style=\"text-align: center\">33</td><td style=\"text-align: center\"> 9</td></tr><tr><th style=\"text-align: center; background-color: white; border-right: 1px solid black; \">1037435</th><td style=\"text-align: center\">41</td><td style=\"text-align: center\"> 3</td></tr><tr><th style=\"text-align: center; background-color: white; border-right: 1px solid black; \">1037436</th><td style=\"text-align: center\">41</td><td style=\"text-align: center\"> 3</td></tr></tbody></table></div>"
      ],
      "text/plain": [
       "<AlleleCountsArray shape=(1037437, 2) dtype=int32>\n",
       "42  4\n",
       "40  4\n",
       "43  3\n",
       "...\n",
       "33  9\n",
       "41  3\n",
       "41  3"
      ]
     },
     "execution_count": 9,
     "metadata": {},
     "output_type": "execute_result"
    }
   ],
   "source": [
    "counts_mat = vcf.count_alleles_subpops(subpop_indices)\n",
    "counts_mat['pop2008']"
   ]
  },
  {
   "cell_type": "code",
   "execution_count": 10,
   "id": "99fea595",
   "metadata": {},
   "outputs": [
    {
     "data": {
      "text/plain": [
       "dict_keys(['pop2008', 'pop1996', 'pop2002', 'pop2014', 'pop2019'])"
      ]
     },
     "execution_count": 10,
     "metadata": {},
     "output_type": "execute_result"
    }
   ],
   "source": [
    "vcf.subpops"
   ]
  },
  {
   "cell_type": "markdown",
   "id": "700603ec",
   "metadata": {},
   "source": [
    "Now we count the number of diploids in each sample."
   ]
  },
  {
   "cell_type": "code",
   "execution_count": 11,
   "id": "44510d23",
   "metadata": {},
   "outputs": [
    {
     "data": {
      "text/plain": [
       "[24, 29, 22, 20, 20]"
      ]
     },
     "execution_count": 11,
     "metadata": {},
     "output_type": "execute_result"
    }
   ],
   "source": [
    "from collections import Counter\n",
    "\n",
    "ndiploids = [Counter(sample_map.values())[k] for k in vcf.subpops]\n",
    "ndiploids"
   ]
  },
  {
   "cell_type": "code",
   "execution_count": 12,
   "id": "48ac73ef",
   "metadata": {},
   "outputs": [],
   "source": [
    "#design = [ ('pop1996',1),\n",
    "#            ('pop2002',1),\n",
    "#            ('pop2008',1),\n",
    "#            ('pop2014',1),\n",
    "#            ('pop2019',1) ]"
   ]
  },
  {
   "cell_type": "code",
   "execution_count": 13,
   "id": "247b973e",
   "metadata": {},
   "outputs": [],
   "source": [
    "design = [  ('pop',1),\n",
    "            ('pop',2),\n",
    "            ('pop',3),\n",
    "            ('pop',4),\n",
    "            ('pop',5) ]"
   ]
  },
  {
   "cell_type": "code",
   "execution_count": 14,
   "id": "d39e9e28",
   "metadata": {},
   "outputs": [
    {
     "name": "stdout",
     "output_type": "stream",
     "text": [
      "number of loci:  1037437\n"
     ]
    }
   ],
   "source": [
    "freq_mat_all = vcf.calc_freqs()\n",
    "print(\"number of loci: \", freq_mat_all.shape[1])"
   ]
  },
  {
   "cell_type": "code",
   "execution_count": 15,
   "id": "876cc6a2",
   "metadata": {},
   "outputs": [
    {
     "name": "stdout",
     "output_type": "stream",
     "text": [
      "number of loci:  1037437\n",
      "loci not segregating removed:  0\n"
     ]
    }
   ],
   "source": [
    "vcf.remove_fixed()\n",
    "freq_mat = vcf.calc_freqs()\n",
    "print(\"number of loci: \", freq_mat.shape[1])\n",
    "#number of loci:  1037437\n",
    "print(\"loci not segregating removed: \", freq_mat_all.shape[1] - freq_mat.shape[1])\n",
    "#loci not segregating removed:  0"
   ]
  },
  {
   "cell_type": "code",
   "execution_count": 16,
   "id": "337da7b0",
   "metadata": {},
   "outputs": [
    {
     "data": {
      "text/plain": [
       "GenomicIntervals — 24 unique seqids, 1037437 features\n",
       "     GenomicInterval\n",
       "0    LG01:[478, 479)\n",
       "1    LG01:[524, 525)\n",
       "2    LG01:[664, 665)\n",
       "3  LG01:[2017, 2018)\n",
       "4  LG01:[2688, 2689)\n",
       "[ 1037432 more GenomicIntervals ]"
      ]
     },
     "execution_count": 16,
     "metadata": {},
     "output_type": "execute_result"
    }
   ],
   "source": [
    "gi = vcf.build_gintervals()\n",
    "gi"
   ]
  },
  {
   "cell_type": "markdown",
   "id": "c71196c6",
   "metadata": {},
   "source": [
    "## Covariance Analysis"
   ]
  },
  {
   "cell_type": "code",
   "execution_count": 17,
   "id": "190ef5cf",
   "metadata": {},
   "outputs": [],
   "source": [
    "tile_width = 10e4\n",
    "gi.infer_seqlens()\n",
    "tiles = GenomicIntervals.from_tiles(gi.seqlens, width=tile_width)"
   ]
  },
  {
   "cell_type": "code",
   "execution_count": 18,
   "id": "cc3a28d2",
   "metadata": {},
   "outputs": [
    {
     "data": {
      "text/plain": [
       "(1, 5, 1037437)"
      ]
     },
     "execution_count": 18,
     "metadata": {},
     "output_type": "execute_result"
    }
   ],
   "source": [
    "d = TiledTemporalFreqs(tiles, freqs=freq_mat, depths=vcf.N, diploids=ndiploids, samples=design, gintervals=gi)\n",
    "d.freqs.shape"
   ]
  },
  {
   "cell_type": "code",
   "execution_count": 19,
   "id": "007ddb5e",
   "metadata": {},
   "outputs": [
    {
     "data": {
      "text/plain": [
       "[('pop', 1), ('pop', 2), ('pop', 3), ('pop', 4), ('pop', 5)]"
      ]
     },
     "execution_count": 19,
     "metadata": {},
     "output_type": "execute_result"
    }
   ],
   "source": [
    "d.samples"
   ]
  },
  {
   "cell_type": "code",
   "execution_count": 20,
   "id": "f4a55ebb",
   "metadata": {},
   "outputs": [
    {
     "data": {
      "text/plain": [
       "58"
      ]
     },
     "execution_count": 20,
     "metadata": {},
     "output_type": "execute_result"
    }
   ],
   "source": [
    "np.amax(d.depths.flatten())"
   ]
  },
  {
   "cell_type": "code",
   "execution_count": 21,
   "id": "48cc8d21",
   "metadata": {},
   "outputs": [
    {
     "data": {
      "text/plain": [
       "24"
      ]
     },
     "execution_count": 21,
     "metadata": {},
     "output_type": "execute_result"
    }
   ],
   "source": [
    "np.amin(d.depths.flatten())"
   ]
  },
  {
   "cell_type": "code",
   "execution_count": 22,
   "id": "1b3ae11d",
   "metadata": {
    "scrolled": true
   },
   "outputs": [
    {
     "data": {
      "image/png": "[encoded data removed]",
      "text/plain": [
       "<Figure size 1600x800 with 1 Axes>"
      ]
     },
     "metadata": {
      "needs_background": "light"
     },
     "output_type": "display_data"
    }
   ],
   "source": [
    "plt.hist(d.depths.flatten(),100)\n",
    "plt.show()"
   ]
  },
  {
   "cell_type": "code",
   "execution_count": 23,
   "id": "61876eef",
   "metadata": {},
   "outputs": [
    {
     "data": {
      "text/plain": [
       "(1, 5, 1037437)"
      ]
     },
     "execution_count": 23,
     "metadata": {},
     "output_type": "execute_result"
    }
   ],
   "source": [
    "d.freqs.shape"
   ]
  },
  {
   "cell_type": "markdown",
   "id": "8be6be39",
   "metadata": {},
   "source": [
    "How many windows and what's the mean and median number of loci per window?"
   ]
  },
  {
   "cell_type": "code",
   "execution_count": 24,
   "id": "93feec26",
   "metadata": {},
   "outputs": [
    {
     "name": "stdout",
     "output_type": "stream",
     "text": [
      "6426\n",
      "6429\n",
      "mean number of loci: 161.20034219940894\n",
      "median number of loci: 156.0\n"
     ]
    }
   ],
   "source": [
    "nloci = np.array([len(x) for x in d.tile_indices])\n",
    "\n",
    "d_noempty = [ele for ele in d.tile_indices if ele != []]\n",
    "print(len(d_noempty))\n",
    "print(len(d.tile_indices))\n",
    "\n",
    "print(f\"mean number of loci: {nloci.mean()}\")\n",
    "print(f\"median number of loci: {np.median(nloci)}\")"
   ]
  },
  {
   "cell_type": "code",
   "execution_count": 25,
   "id": "ee10dee2",
   "metadata": {},
   "outputs": [
    {
     "data": {
      "text/plain": [
       "array([192,  58, 269, ..., 118,  72,  74])"
      ]
     },
     "execution_count": 25,
     "metadata": {},
     "output_type": "execute_result"
    }
   ],
   "source": [
    "nloci"
   ]
  },
  {
   "cell_type": "code",
   "execution_count": 26,
   "id": "d2507b69",
   "metadata": {},
   "outputs": [],
   "source": [
    "#gw_covs = d.calc_cov(use_masked=True, standardize=True)\n",
    "gw_covs = d.calc_cov()"
   ]
  },
  {
   "cell_type": "code",
   "execution_count": 27,
   "id": "7893bb61",
   "metadata": {},
   "outputs": [
    {
     "data": {
      "text/plain": [
       "(4, 4)"
      ]
     },
     "execution_count": 27,
     "metadata": {},
     "output_type": "execute_result"
    }
   ],
   "source": [
    "gw_covs.shape"
   ]
  },
  {
   "cell_type": "code",
   "execution_count": 28,
   "id": "1b49cac9",
   "metadata": {},
   "outputs": [
    {
     "name": "stderr",
     "output_type": "stream",
     "text": [
      "<ipython-input-28-81cb7ab2e0aa>:7: UserWarning: FixedFormatter should only be used together with FixedLocator\n",
      "  ax.set_xticklabels(sample_names)\n",
      "<ipython-input-28-81cb7ab2e0aa>:8: UserWarning: FixedFormatter should only be used together with FixedLocator\n",
      "  ax.set_yticklabels(sample_names)\n"
     ]
    },
    {
     "data": {
      "image/png": "[encoded data removed]",
      "text/plain": [
       "<Figure size 1600x800 with 2 Axes>"
      ]
     },
     "metadata": {
      "needs_background": "light"
     },
     "output_type": "display_data"
    }
   ],
   "source": [
    "np.fill_diagonal(gw_covs, np.nan)\n",
    "fig, ax = plt.subplots()\n",
    "ax.imshow(gw_covs)\n",
    "img1 = ax.imshow(gw_covs)\n",
    "fig.colorbar(img1, ax=ax)\n",
    "sample_names = ['1996','2002','2008','2014','2019' ]\n",
    "ax.set_xticklabels(sample_names)\n",
    "ax.set_yticklabels(sample_names)\n",
    "#print( design['name'])\n",
    "ax.set_xticks(np.arange(len(sample_names)))\n",
    "ax.set_yticks(np.arange(len(sample_names)))\n",
    "#plt.savefig('/users/r/b/rbrennan/tonsa_genomics/figures/covariance_heatmap.pdf')\n",
    "\n",
    "plt.show()"
   ]
  },
  {
   "cell_type": "code",
   "execution_count": null,
   "id": "901388b5",
   "metadata": {},
   "outputs": [],
   "source": [
    "#bootstrap covariance matrix\n",
    "from tqdm import tqdm\n",
    "from tqdm import tnrange\n",
    "# need to use CI method \"standard\" to deal with bias in the bootstrap\n",
    "gw_covs_cis = d.bootstrap_cov(B=1000, progress_bar=True, keep_seqids=None,\n",
    "                              average_replicates=False, use_masked=True, ci_method=\"standard\")"
   ]
  },
  {
   "cell_type": "code",
   "execution_count": null,
   "id": "eea6d241",
   "metadata": {},
   "outputs": [],
   "source": []
  },
  {
   "cell_type": "code",
   "execution_count": null,
   "id": "1f39e184",
   "metadata": {},
   "outputs": [],
   "source": []
  },
  {
   "cell_type": "code",
   "execution_count": null,
   "id": "597fb6f0",
   "metadata": {},
   "outputs": [],
   "source": []
  },
  {
   "cell_type": "markdown",
   "id": "c27ca105",
   "metadata": {},
   "source": [
    "## Replicate Covariance Analysis"
   ]
  },
  {
   "cell_type": "code",
   "execution_count": null,
   "id": "d94f0a12",
   "metadata": {},
   "outputs": [],
   "source": []
  },
  {
   "cell_type": "code",
   "execution_count": null,
   "id": "a7cba9b5",
   "metadata": {},
   "outputs": [],
   "source": []
  },
  {
   "cell_type": "code",
   "execution_count": null,
   "id": "89c49283",
   "metadata": {},
   "outputs": [],
   "source": []
  },
  {
   "cell_type": "code",
   "execution_count": null,
   "id": "f72a296a",
   "metadata": {},
   "outputs": [],
   "source": []
  },
  {
   "cell_type": "code",
   "execution_count": null,
   "id": "93946b8a",
   "metadata": {},
   "outputs": [],
   "source": []
  },
  {
   "cell_type": "code",
   "execution_count": 138,
   "id": "9d1a36bf",
   "metadata": {},
   "outputs": [
    {
     "ename": "ValueError",
     "evalue": "negative dimensions are not allowed",
     "output_type": "error",
     "traceback": [
      "\u001b[0;31m---------------------------------------------------------------------------\u001b[0m",
      "\u001b[0;31mValueError\u001b[0m                                Traceback (most recent call last)",
      "Input \u001b[0;32mIn [138]\u001b[0m, in \u001b[0;36m<cell line: 2>\u001b[0;34m()\u001b[0m\n\u001b[1;32m      1\u001b[0m \u001b[38;5;66;03m#gw_covs = d.calc_cov(use_masked=True, standardize=True)\u001b[39;00m\n\u001b[0;32m----> 2\u001b[0m gw_covs \u001b[38;5;241m=\u001b[39m \u001b[43md\u001b[49m\u001b[38;5;241;43m.\u001b[39;49m\u001b[43mcalc_cov\u001b[49m\u001b[43m(\u001b[49m\u001b[43m)\u001b[49m\n",
      "File \u001b[0;32m~/miniconda3/envs/cvtk/lib/python3.9/site-packages/cvtkpy-0.0.1-py3.9.egg/cvtk/cvtk.py:111\u001b[0m, in \u001b[0;36mTemporalFreqs.calc_cov\u001b[0;34m(self, keep_seqids, bias_correction, standardize, use_masked, product_only)\u001b[0m\n\u001b[1;32m    108\u001b[0m     idx \u001b[38;5;241m=\u001b[39m np\u001b[38;5;241m.\u001b[39marray([i \u001b[38;5;28;01mfor\u001b[39;00m i, seqid \u001b[38;5;129;01min\u001b[39;00m \u001b[38;5;28menumerate\u001b[39m(\u001b[38;5;28mself\u001b[39m\u001b[38;5;241m.\u001b[39mgintervals\u001b[38;5;241m.\u001b[39mseqid)\n\u001b[1;32m    109\u001b[0m                     \u001b[38;5;28;01mif\u001b[39;00m seqid \u001b[38;5;129;01min\u001b[39;00m keep_seqids])\n\u001b[1;32m    110\u001b[0m     freqs, depths \u001b[38;5;241m=\u001b[39m freqs[\u001b[38;5;241m.\u001b[39m\u001b[38;5;241m.\u001b[39m\u001b[38;5;241m.\u001b[39m, idx], depths[\u001b[38;5;241m.\u001b[39m\u001b[38;5;241m.\u001b[39m\u001b[38;5;241m.\u001b[39m, idx]\n\u001b[0;32m--> 111\u001b[0m \u001b[38;5;28;01mreturn\u001b[39;00m \u001b[43mtemporal_replicate_cov\u001b[49m\u001b[43m(\u001b[49m\u001b[43mfreqs\u001b[49m\u001b[43m,\u001b[49m\u001b[43m \u001b[49m\u001b[43mdepths\u001b[49m\u001b[43m,\u001b[49m\u001b[43m \u001b[49m\u001b[38;5;28;43mself\u001b[39;49m\u001b[38;5;241;43m.\u001b[39;49m\u001b[43mdiploids\u001b[49m\u001b[43m,\u001b[49m\n\u001b[1;32m    112\u001b[0m \u001b[43m                              \u001b[49m\u001b[43mbias_correction\u001b[49m\u001b[38;5;241;43m=\u001b[39;49m\u001b[43mbias_correction\u001b[49m\u001b[43m,\u001b[49m\n\u001b[1;32m    113\u001b[0m \u001b[43m                              \u001b[49m\u001b[43mshare_first\u001b[49m\u001b[38;5;241;43m=\u001b[39;49m\u001b[38;5;28;43mself\u001b[39;49m\u001b[38;5;241;43m.\u001b[39;49m\u001b[43mshare_first\u001b[49m\u001b[43m,\u001b[49m\n\u001b[1;32m    114\u001b[0m \u001b[43m                              \u001b[49m\u001b[43mproduct_only\u001b[49m\u001b[38;5;241;43m=\u001b[39;49m\u001b[43mproduct_only\u001b[49m\u001b[43m,\u001b[49m\n\u001b[1;32m    115\u001b[0m \u001b[43m                              \u001b[49m\u001b[43mstandardize\u001b[49m\u001b[38;5;241;43m=\u001b[39;49m\u001b[43mstandardize\u001b[49m\u001b[43m,\u001b[49m\u001b[43m \u001b[49m\u001b[43muse_masked\u001b[49m\u001b[38;5;241;43m=\u001b[39;49m\u001b[43muse_masked\u001b[49m\u001b[43m)\u001b[49m\n",
      "File \u001b[0;32m~/miniconda3/envs/cvtk/lib/python3.9/site-packages/cvtkpy-0.0.1-py3.9.egg/cvtk/cov.py:360\u001b[0m, in \u001b[0;36mtemporal_replicate_cov\u001b[0;34m(freqs, depths, diploids, bias_correction, standardize, deltas, use_masked, share_first, product_only, return_ratio_parts, warn)\u001b[0m\n\u001b[1;32m    358\u001b[0m ave_bias \u001b[38;5;241m=\u001b[39m np\u001b[38;5;241m.\u001b[39mzeros((R, (T\u001b[38;5;241m+\u001b[39m\u001b[38;5;241m1\u001b[39m)))\n\u001b[1;32m    359\u001b[0m var_correction \u001b[38;5;241m=\u001b[39m np\u001b[38;5;241m.\u001b[39mzeros(RxT)\n\u001b[0;32m--> 360\u001b[0m covar_correction \u001b[38;5;241m=\u001b[39m \u001b[43mnp\u001b[49m\u001b[38;5;241;43m.\u001b[39;49m\u001b[43mzeros\u001b[49m\u001b[43m(\u001b[49m\u001b[43mR\u001b[49m\u001b[38;5;241;43m*\u001b[39;49m\u001b[43mT\u001b[49m\u001b[38;5;241;43m-\u001b[39;49m\u001b[38;5;241;43m1\u001b[39;49m\u001b[43m)\u001b[49m\n\u001b[1;32m    362\u001b[0m \u001b[38;5;66;03m# build up correct for any combination of depth / diploid / depth & diploid\u001b[39;00m\n\u001b[1;32m    363\u001b[0m \u001b[38;5;66;03m# data\u001b[39;00m\n\u001b[1;32m    364\u001b[0m diploid_correction \u001b[38;5;241m=\u001b[39m \u001b[38;5;241m0.\u001b[39m\n",
      "\u001b[0;31mValueError\u001b[0m: negative dimensions are not allowed"
     ]
    }
   ],
   "source": [
    "#gw_covs = d.calc_cov(use_masked=True, standardize=True)\n",
    "gw_covs = d.calc_cov()"
   ]
  },
  {
   "cell_type": "code",
   "execution_count": 139,
   "id": "460994e6",
   "metadata": {},
   "outputs": [],
   "source": [
    "def correct_dimensions(freqs, depths=None, diploids=None):\n",
    "    # pad on an extra dimensions for 1-replicate designs\n",
    "    if freqs.ndim == 2:\n",
    "        freqs = freqs[np.newaxis, ...]\n",
    "    if depths is not None:\n",
    "        if depths.ndim == 2:\n",
    "            depths = depths[np.newaxis, ...]\n",
    "        assert(freqs.shape == depths.shape)\n",
    "\n",
    "    R, ntimepoints, L = freqs.shape\n",
    "    if diploids is not None:\n",
    "        depth_is_single_int = diploids.size == 1\n",
    "        depth_is_valid_vector = diploids.ndim == 2 and diploids.shape == (R, ntimepoints)\n",
    "        depth_is_valid_array = diploids.ndim == 3 and diploids.shape == (R, ntimepoints, 1)\n",
    "        if not (depth_is_single_int or depth_is_valid_vector or depth_is_valid_array):\n",
    "            msg = (\"diploids must be an integer or a matrix of shape \"\n",
    "                   f\"nreplicates x ntimepoints ({R} x {ntimepoints})\")\n",
    "            raise ValueError(msg)\n",
    "    return freqs, depths, diploids\n",
    "\n"
   ]
  },
  {
   "cell_type": "code",
   "execution_count": 140,
   "id": "e2949ea2",
   "metadata": {},
   "outputs": [],
   "source": [
    "depths=None\n",
    "diploids=None\n",
    "freqs, depths, diploids = correct_dimensions(d.freqs, depths, diploids)"
   ]
  },
  {
   "cell_type": "code",
   "execution_count": 141,
   "id": "d376c59d",
   "metadata": {},
   "outputs": [],
   "source": [
    "def calc_deltas(freqs):\n",
    "    \"\"\"\n",
    "    Calculates the deltas matrix, which is the frequency matrix where\n",
    "    entry out[n] = x[n+1] - x[n]. This takes a R x T x L frequency array.\n",
    "    \"\"\"\n",
    "    if freqs.ndim == 2:\n",
    "        return np.diff(freqs, axis=0)\n",
    "    elif freqs.ndim == 3:\n",
    "        return np.diff(freqs, axis=1)\n",
    "    else:\n",
    "        raise ValueError(\"eqs.ndim must be eitehr 2 or 3\")\n",
    "        \n",
    "deltas = calc_deltas(freqs)"
   ]
  },
  {
   "cell_type": "code",
   "execution_count": 142,
   "id": "8bd9a53a",
   "metadata": {},
   "outputs": [],
   "source": [
    "def calc_hets(freqs, depths=None, diploids=None, bias=False, warn=False):\n",
    "    R, T, L = freqs.shape\n",
    "    if depths is not None:\n",
    "        assert(freqs.shape == depths.shape)\n",
    "    het = 2*freqs*(1-freqs)\n",
    "    warn_type = 'ignore' if not warn else 'warn'\n",
    "    with np.errstate(divide=warn_type, invalid=warn_type):\n",
    "        if not bias:\n",
    "            if depths is not None:\n",
    "                het *= depths / (depths-1)\n",
    "            if diploids is not None:\n",
    "                het *= 2*diploids / (2*diploids - 1)\n",
    "    return het\n"
   ]
  },
  {
   "cell_type": "code",
   "execution_count": 143,
   "id": "196bb01d",
   "metadata": {},
   "outputs": [
    {
     "data": {
      "text/plain": [
       "array([], shape=(5, 0, 499929), dtype=float64)"
      ]
     },
     "execution_count": 143,
     "metadata": {},
     "output_type": "execute_result"
    }
   ],
   "source": [
    "deltas"
   ]
  },
  {
   "cell_type": "code",
   "execution_count": 144,
   "id": "c94e72bc",
   "metadata": {},
   "outputs": [
    {
     "data": {
      "text/plain": [
       "(5, 0, 499929)"
      ]
     },
     "execution_count": 144,
     "metadata": {},
     "output_type": "execute_result"
    }
   ],
   "source": [
    "R, T, L = deltas.shape\n",
    "deltas.shape"
   ]
  },
  {
   "cell_type": "code",
   "execution_count": 145,
   "id": "262c174d",
   "metadata": {},
   "outputs": [],
   "source": [
    "def replicate_average_het_matrix(hets, R, T, L):\n",
    "    \"\"\"\n",
    "    Create the heterozygosity denominator for the temporal-replicate\n",
    "    variance covariance matrix.\n",
    "    Create the heterozygosity denominator, which is of block form.\n",
    "    Each block is a replicate. Each element is,\n",
    "    (p_{A, min(t,s)}(1-p_{A, min(t,s)}) +\n",
    "         p_{B, min(t,s)}(1-p_{B, min(t,s)})) / 2\n",
    "    For temporal block covariance matrices (those along the diagonal), this is\n",
    "    the same as the usual p_min(t,s) (1 - p_min(t,s)). For replicate blocks,\n",
    "    we average the two initial frequencies.\n",
    "    \"\"\"\n",
    "    assert(hets.shape == (R, T+1))\n",
    "    # Create the heterozygosity denominator, which is of block form.\n",
    "    # Each block is a replicate. Each element is,\n",
    "    # (p_{A, min(t,s)}(1-p_{A, min(t,s)}) +\n",
    "    #      p_{B, min(t,s)}(1-p_{B, min(t,s)})) / 2\n",
    "    # for each replicate. We use some numpy tricks here.\n",
    "    time_indices = np.arange(0, T)\n",
    "    # this is the T x T matrix of min(s,t):\n",
    "    min_t_s = np.minimum.outer(time_indices, time_indices)\n",
    "    # next, we make the min(t,s) matrix of indices for each of the\n",
    "    # replicate submatrices of the block matrix. There are R x R\n",
    "    # block matrices, each block submatrix is T x T. This makes R x R\n",
    "    # min(t,s) matrices to be used for indices:\n",
    "    min_t_s_block = np.tile(min_t_s, (R, R))\n",
    "    # now, we build indices for row/col for block matrices\n",
    "    # which are used to index the heterozygosity denominators for\n",
    "    # the replicated that are two be averaged:\n",
    "    row_bm, col_bm = replicate_block_matrix_indices(R, T)\n",
    "    # use indexing vectors to get heterozygosities\n",
    "    A = hets[row_bm.ravel(), min_t_s_block.ravel()]\n",
    "    B = hets[col_bm.ravel(), min_t_s_block.ravel()]\n",
    "    avehet_min = (A + B).reshape((R*T, R*T)) / 2\n",
    "    return avehet_min\n",
    "\n",
    "\n",
    "def temporal_block_matrix_indices(R, T):\n",
    "    \"\"\"\n",
    "    Return the indices of times t, s in each block matrix, where there are\n",
    "    R x R block matrices (one for each replicate), and each block matrix is\n",
    "    a covariance matrix of rows t, columns s timediffs.\n",
    "    \"\"\"\n",
    "    row, col = replicate_block_matrix_indices(T, 1)\n",
    "    rows = np.tile(row, (R, R))\n",
    "    cols = np.tile(col, (R, R))\n",
    "    return rows, cols\n",
    "\n",
    "def replicate_block_matrix_indices(R, T):\n",
    "    \"\"\"\n",
    "    Build block matrices of row and colum indices indicating the *replicate*.\n",
    "    Each block matrix is (R x T) x (R x T), with each block being T x T.\n",
    "    The structure is\n",
    "    [[ A/A  A/A  A/C ]\n",
    "     [ B/A  B/B  B/C ]\n",
    "     [ C/A  C/B  C/C ]]\n",
    "    with X/Y indicating replicate X, replicate Y blocks. The two matrices\n",
    "    returned are rows (all the X values) and cols (all y values).\n",
    "    \"\"\"\n",
    "    row_bm = np.vstack([np.full((T, R*T), i) for i in range(R)])\n",
    "    col_bm = row_bm.T\n",
    "    return (row_bm, col_bm)\n",
    "\n",
    "def stack_replicate_covariances(covmat, R, T, stack=True, return_tuple=False,\n",
    "                                upper_only=True, return_labels=False,\n",
    "                                samples=None):\n",
    "    \"\"\"\n",
    "    Upper only now.\n",
    "    If stack=True, the last dimension is the number of replicates, and the\n",
    "    first two dimensions are T, and T (for the covariance matrix).\n",
    "    For easier printing, you probably want to transpose the results of this\n",
    "    function when stack=True.\n",
    "    \"\"\"\n",
    "    layers = []\n",
    "    labels = []\n",
    "    if return_labels:\n",
    "        assert(samples is not None)\n",
    "        labmat = cov_labels(R, T, samples)\n",
    "    rows, cols = replicate_block_matrix_indices(R, T)\n",
    "    for i in np.arange(R):\n",
    "        for j in np.arange(R):\n",
    "            if i == j:\n",
    "                # ignore temporal covs\n",
    "                continue\n",
    "            if upper_only and i < j:\n",
    "                continue\n",
    "            this_block_matrix = np.logical_and(rows == i, cols == j)\n",
    "            block = covmat[this_block_matrix].reshape(T, T)\n",
    "            if return_labels:\n",
    "                label_block = labmat[this_block_matrix].reshape(T, T)\n",
    "            if stack:\n",
    "                layers.append(block)\n",
    "            else:\n",
    "                if return_tuple:\n",
    "                    # store i, j\n",
    "                    layers.append((i, j, block))\n",
    "                else:\n",
    "                    layers.append(block)\n",
    "            if return_labels:\n",
    "                labels.append(label_block)\n",
    "    if stack:\n",
    "        if not return_labels:\n",
    "            return np.stack(layers).T\n",
    "        return np.stack(layers).T, np.stack(labels).T\n",
    "    if not return_labels:\n",
    "        return layers\n",
    "    else:\n",
    "        return layers, labels\n",
    "\n",
    "hets = calc_hets(freqs, depths=depths, diploids=diploids)\n",
    "mean_hets = np.nanmean(hets, axis=freqs.ndim-1)\n",
    "het_denom = replicate_average_het_matrix(mean_hets, R, T, L) / 2."
   ]
  },
  {
   "cell_type": "code",
   "execution_count": 146,
   "id": "465ea665",
   "metadata": {},
   "outputs": [],
   "source": [
    "from cvtk.utils import flatten_matrix, view_along_axis\n",
    "\n",
    "deltas = flatten_matrix(deltas, R, T, L)"
   ]
  },
  {
   "cell_type": "code",
   "execution_count": 147,
   "id": "30cdeeb1",
   "metadata": {},
   "outputs": [
    {
     "data": {
      "text/plain": [
       "array([], shape=(0, 499929), dtype=float64)"
      ]
     },
     "execution_count": 147,
     "metadata": {},
     "output_type": "execute_result"
    }
   ],
   "source": [
    "#assert(deltas.ndim == 2)\n",
    "deltas"
   ]
  },
  {
   "cell_type": "code",
   "execution_count": null,
   "id": "c931b7e6",
   "metadata": {},
   "outputs": [],
   "source": []
  }
 ],
 "metadata": {
  "kernelspec": {
   "display_name": "Python 3",
   "language": "python",
   "name": "python3"
  },
  "language_info": {
   "codemirror_mode": {
    "name": "ipython",
    "version": 3
   },
   "file_extension": ".py",
   "mimetype": "text/x-python",
   "name": "python",
   "nbconvert_exporter": "python",
   "pygments_lexer": "ipython3",
   "version": "3.9.7"
  }
 },
 "nbformat": 4,
 "nbformat_minor": 5
}
